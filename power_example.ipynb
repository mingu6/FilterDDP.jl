{
 "cells": [
  {
   "cell_type": "code",
   "execution_count": 1,
   "id": "bec36edb-0083-4c34-8e0a-329fa57fa9a8",
   "metadata": {},
   "outputs": [
    {
     "name": "stderr",
     "output_type": "stream",
     "text": [
      "\u001b[32m\u001b[1mPrecompiling\u001b[22m\u001b[39m packages...\n",
      "   2477.9 ms\u001b[33m  ? \u001b[39m\u001b[90mDomainSets\u001b[39m\n",
      "   2654.7 ms\u001b[33m  ? \u001b[39mSymbolics\n",
      "\u001b[36m\u001b[1mInfo\u001b[22m\u001b[39m Given FilterDDP was explicitly requested, output will be shown live \u001b[0K\n",
      "\u001b[0KWARNING: Method definition isapprox(IntervalSets.AbstractInterval{T} where T, IntervalSets.AbstractInterval{T} where T) in module IntervalSets at /Users/ceebskent/.julia/packages/IntervalSets/CFJJK/src/IntervalSets.jl:297 overwritten in module DomainSets at /Users/ceebskent/.julia/packages/DomainSets/aafhp/src/domains/interval.jl:52.\n",
      "\u001b[0KERROR: Method overwriting is not permitted during Module precompilation. Use `__precompile__(false)` to opt-out of precompilation.\n",
      "   2669.5 ms\u001b[33m  ? \u001b[39mFilterDDP\n",
      "\u001b[36m\u001b[1m[ \u001b[22m\u001b[39m\u001b[36m\u001b[1mInfo: \u001b[22m\u001b[39mPrecompiling FilterDDP [ac7c0669-fec3-40a7-96c9-a64efa85c273]\n",
      "WARNING: Method definition isapprox(IntervalSets.AbstractInterval{T} where T, IntervalSets.AbstractInterval{T} where T) in module IntervalSets at /Users/ceebskent/.julia/packages/IntervalSets/CFJJK/src/IntervalSets.jl:297 overwritten in module DomainSets at /Users/ceebskent/.julia/packages/DomainSets/aafhp/src/domains/interval.jl:52.\n",
      "ERROR: Method overwriting is not permitted during Module precompilation. Use `__precompile__(false)` to opt-out of precompilation.\n",
      "\u001b[36m\u001b[1m[ \u001b[22m\u001b[39m\u001b[36m\u001b[1mInfo: \u001b[22m\u001b[39mSkipping precompilation since __precompile__(false). Importing FilterDDP [ac7c0669-fec3-40a7-96c9-a64efa85c273].\n",
      "\u001b[32m\u001b[1mPrecompiling\u001b[22m\u001b[39m packages...\n",
      "   2609.1 ms\u001b[33m  ? \u001b[39m\u001b[90mDomainSets\u001b[39m\n",
      "\u001b[36m\u001b[1mInfo\u001b[22m\u001b[39m Given Symbolics was explicitly requested, output will be shown live \u001b[0K\n",
      "\u001b[0KWARNING: Method definition isapprox(IntervalSets.AbstractInterval{T} where T, IntervalSets.AbstractInterval{T} where T) in module IntervalSets at /Users/ceebskent/.julia/packages/IntervalSets/CFJJK/src/IntervalSets.jl:297 overwritten in module DomainSets at /Users/ceebskent/.julia/packages/DomainSets/aafhp/src/domains/interval.jl:52.\n",
      "\u001b[0KERROR: Method overwriting is not permitted during Module precompilation. Use `__precompile__(false)` to opt-out of precompilation.\n",
      "   3017.9 ms\u001b[33m  ? \u001b[39mSymbolics\n",
      "\u001b[36m\u001b[1m[ \u001b[22m\u001b[39m\u001b[36m\u001b[1mInfo: \u001b[22m\u001b[39mPrecompiling Symbolics [0c5d862f-8b57-4792-8d23-62f2024744c7]\n",
      "WARNING: Method definition isapprox(IntervalSets.AbstractInterval{T} where T, IntervalSets.AbstractInterval{T} where T) in module IntervalSets at /Users/ceebskent/.julia/packages/IntervalSets/CFJJK/src/IntervalSets.jl:297 overwritten in module DomainSets at /Users/ceebskent/.julia/packages/DomainSets/aafhp/src/domains/interval.jl:52.\n",
      "ERROR: Method overwriting is not permitted during Module precompilation. Use `__precompile__(false)` to opt-out of precompilation.\n",
      "\u001b[36m\u001b[1m[ \u001b[22m\u001b[39m\u001b[36m\u001b[1mInfo: \u001b[22m\u001b[39mSkipping precompilation since __precompile__(false). Importing Symbolics [0c5d862f-8b57-4792-8d23-62f2024744c7].\n",
      "\u001b[32m\u001b[1mPrecompiling\u001b[22m\u001b[39m packages...\n",
      "\u001b[36m\u001b[1mInfo\u001b[22m\u001b[39m Given DomainSets was explicitly requested, output will be shown live \u001b[0K\n",
      "\u001b[0KWARNING: Method definition isapprox(IntervalSets.AbstractInterval{T} where T, IntervalSets.AbstractInterval{T} where T) in module IntervalSets at /Users/ceebskent/.julia/packages/IntervalSets/CFJJK/src/IntervalSets.jl:297 overwritten in module DomainSets at /Users/ceebskent/.julia/packages/DomainSets/aafhp/src/domains/interval.jl:52.\n",
      "\u001b[0KERROR: Method overwriting is not permitted during Module precompilation. Use `__precompile__(false)` to opt-out of precompilation.\n",
      "   1648.5 ms\u001b[33m  ? \u001b[39m\u001b[90mDomainSets\u001b[39m\n",
      "\u001b[36m\u001b[1m[ \u001b[22m\u001b[39m\u001b[36m\u001b[1mInfo: \u001b[22m\u001b[39mPrecompiling DomainSets [5b8099bc-c8ec-5219-889f-1d9e522a28bf]\n",
      "WARNING: Method definition isapprox(IntervalSets.AbstractInterval{T} where T, IntervalSets.AbstractInterval{T} where T) in module IntervalSets at /Users/ceebskent/.julia/packages/IntervalSets/CFJJK/src/IntervalSets.jl:297 overwritten in module DomainSets at /Users/ceebskent/.julia/packages/DomainSets/aafhp/src/domains/interval.jl:52.\n",
      "ERROR: Method overwriting is not permitted during Module precompilation. Use `__precompile__(false)` to opt-out of precompilation.\n",
      "\u001b[36m\u001b[1m[ \u001b[22m\u001b[39m\u001b[36m\u001b[1mInfo: \u001b[22m\u001b[39mSkipping precompilation since __precompile__(false). Importing DomainSets [5b8099bc-c8ec-5219-889f-1d9e522a28bf].\n"
     ]
    }
   ],
   "source": [
    "using FilterDDP\n",
    "using Random"
   ]
  },
  {
   "cell_type": "code",
   "execution_count": 8,
   "id": "5d0bcbc7-ab5f-47f1-8bc7-a9872ad44bcf",
   "metadata": {},
   "outputs": [],
   "source": [
    "# set OCP parameters\n",
    "\n",
    "nx = 2  # number of states\n",
    "nu = 1  # number of controls\n",
    "\n",
    "h = 1e-4  # dt, time discretisation\n",
    "N = 1000  # no. timesteps, i.e., horizon of T = 0.1s\n",
    "L = 50 * 1e-3\n",
    "C = 100 * 1e-6\n",
    "Vg = 50\n",
    "R = 50\n",
    "\n",
    "# stores solver parameters\n",
    "options = Options{Float64}(verbose=true, optimality_tolerance=1e-8);"
   ]
  },
  {
   "cell_type": "markdown",
   "id": "e7b490b5-b2bb-4bc0-aa1a-ab12ed923672",
   "metadata": {},
   "source": [
    "### 1. Setting the objective function\n",
    "\n",
    "For each discrete timestep, we need to set an objective function using the ```Objective``` struct. The objective function is a scalar-valued function which takes as input a state vector and control vector. "
   ]
  },
  {
   "cell_type": "code",
   "execution_count": 7,
   "id": "092675ca-5bb7-4322-ab59-9070f0896a80",
   "metadata": {},
   "outputs": [],
   "source": [
    "# set objective functions\n",
    "\n",
    "Vrefs = [0.5 * Vg * sin(100 * pi * t) for t = LinRange(0.0, 0.1, N)];\n",
    "objectives_ = [(x, u) -> (x[2] - Vref)^2 for Vref in Vrefs];\n",
    "objectives = [Objective(objective, nx, nu) for objective in objectives_];"
   ]
  },
  {
   "cell_type": "markdown",
   "id": "a8661275-3872-4e51-b1c4-c8f0804f2efc",
   "metadata": {},
   "source": [
    "### 2. Setting the dynamics mappings\n",
    "\n",
    "For each discrete timestep *except the last step*, we need to set the discrete-time dynamics mappings using the ```Dynamics``` struct. The dynamics mapping is a vector-valued function which takes as input a state vector and control vector and outputs the state at the next discrete timestep. "
   ]
  },
  {
   "cell_type": "code",
   "execution_count": 9,
   "id": "5b828a33-bfb7-401d-8921-fbfaeabb8000",
   "metadata": {},
   "outputs": [],
   "source": [
    "# set discrete-time dynamics\n",
    "\n",
    "f = (x, u) -> begin\n",
    "    x1dot = -x[2] / L + Vg / L * (2 * u[1] - 1)\n",
    "    x2dot = x[1] / C + x[2] / (R * C)\n",
    "    return x + h * [x1dot; x2dot]\n",
    "end\n",
    "dynamics_ = Dynamics(f, nx, nu);\n",
    "dynamics = [dynamics_ for k = 1:N-1];"
   ]
  },
  {
   "cell_type": "markdown",
   "id": "c153546f-e61a-4fc3-8626-39d9e5dbc766",
   "metadata": {},
   "source": [
    "### 3. Setting the constraint functions\n",
    "\n",
    "For each discrete timestep, we need to set the bounds inequality constraints on the controls and nonlinear equality constraints using the ```Bounds``` and ```Constraints``` structs, respectively. For control limits, we set a lower and upper limit (this can be ```-Inf``` and ```Inf```). Note, we do not apply equality constraints in this example."
   ]
  },
  {
   "cell_type": "code",
   "execution_count": 10,
   "id": "ffef9d5f-8cda-4541-b1cb-a7e6490c585e",
   "metadata": {},
   "outputs": [],
   "source": [
    "# set stage-wise constraints\n",
    "\n",
    "# inequality constraints (bounds on controls)\n",
    "bound = Bound([0.0], [1.0])  # u \\in [0, 1]\n",
    "bounds = [bound for k in 1:N]\n",
    "\n",
    "# nonlinear equality constraints (none)\n",
    "constraint = Constraint((x, u) -> [], nx, nu);  # no equality constraints\n",
    "constraints = [constraint for k=1:N];"
   ]
  },
  {
   "cell_type": "markdown",
   "id": "2c47444e-2264-41fb-8993-beba4fe454fd",
   "metadata": {},
   "source": [
    "### 4. Initialise and solve\n",
    "\n",
    "Finally, we initialise the FilterDDP solver with the dynamics, constraints, objectives and bounds structs. We then call the ```solve!``` function with an initial state ```x1``` and initial control vector ```ū```."
   ]
  },
  {
   "cell_type": "code",
   "execution_count": 6,
   "id": "2c63bb42-0fc4-45d5-b5c4-9df272ae2d1a",
   "metadata": {},
   "outputs": [
    {
     "name": "stdout",
     "output_type": "stream",
     "text": [
      "\u001b[31;1m   \n",
      " _____ _ _ _            ____  ____  ____  \n",
      "|  ___(_) | |_ ___ _ __|  _ \\|  _ \\|  _ \\ \n",
      "| |_  | | | __/ _ \\ '__| | | | | | | |_) |\n",
      "|  _| | | | ||  __/ |  | |_| | |_| |  __/ \n",
      "|_|   |_|_|\\__\\___|_|  |____/|____/|_|                 \n",
      "    \n",
      "\u001b[0m  iter     objective        pr_inf       du_inf       cs_inf     lg(μ)   lg(reg)    alpha     ls   wall_time  solver_time\n",
      "     0   1.27821377e+14   0.0000e+00   1.8040e+13   9.9000e-01    0.00      -     0.0000e+00   0     0.00     0.00\n",
      "     1   1.23858166e+14   0.0000e+00   1.7758e+13   9.9013e-01    0.00      -     1.5625e-02   0    17663.67    4686.94\n",
      "     2   6.96702181e+13   0.0000e+00   1.3318e+13   9.8565e-01    0.00      -     2.5000e-01   0    17720.88    4691.57\n",
      "     3   5.33412608e+13   0.0000e+00   1.1653e+13   9.8618e-01    0.00      -     1.2500e-01   0    17735.48    4695.68\n",
      "     4   4.08394028e+13   0.0000e+00   1.0197e+13   9.8683e-01    0.00      -     1.2500e-01   0    17748.75    4699.87\n",
      "     5   3.12676677e+13   0.0000e+00   8.9222e+12   9.8759e-01    0.00      -     1.2500e-01   0    17760.86    4703.82\n",
      "     6   1.75880631e+13   0.0000e+00   6.6916e+12   9.8943e-01    0.00      -     2.5000e-01   0    17772.51    4707.54\n",
      "     7   1.34658608e+13   0.0000e+00   5.8552e+12   9.9074e-01    0.00      -     1.2500e-01   0    17784.67    4711.46\n",
      "     8   7.57454671e+12   0.0000e+00   4.3914e+12   9.9300e-01    0.00      -     2.5000e-01   0    17796.53    4715.16\n",
      "     9   5.79926232e+12   0.0000e+00   3.8425e+12   9.9387e-01    0.00      -     1.2500e-01   0    17809.48    4719.43\n",
      "  iter     objective        pr_inf       du_inf       cs_inf     lg(μ)   lg(reg)    alpha     ls   wall_time  solver_time\n",
      "    10   3.26208506e+12   0.0000e+00   2.8818e+12   9.9529e-01    0.00      -     2.5000e-01   0    17825.93    4723.81\n",
      "    11   1.83492284e+12   0.0000e+00   2.1614e+12   9.9640e-01    0.00      -     2.5000e-01   0    17844.21    4728.22\n",
      "    12   1.03214410e+12   0.0000e+00   1.6210e+12   9.9714e-01    0.00      -     2.5000e-01   0    17861.08    4734.13\n",
      "    13   5.80581056e+11   0.0000e+00   1.2158e+12   9.9783e-01    0.00      -     2.5000e-01   0    17876.14    4738.81\n",
      "    14   1.45145264e+11   0.0000e+00   6.0789e+11   9.9880e-01    0.00      -     5.0000e-01   0    17889.76    4743.15\n",
      "    15   1.01863323e+02   0.0000e+00   4.4326e-05   1.0905e+00   -1.40      -     1.0000e+00   0    17900.60    4746.34\n",
      "    16   9.76276980e+01   0.0000e+00   2.2172e-05   6.2476e-01   -1.40      -     5.0000e-01   0    17932.80    4755.70\n",
      "    17   9.49352767e+01   0.0000e+00   1.1072e-05   3.5818e-01   -2.10      -     5.0000e-01   0    17944.76    4759.26\n",
      "    18   9.31058251e+01   0.0000e+00   5.5417e-06   1.9499e-01   -2.10      -     5.0000e-01   0    17967.74    4766.09\n",
      "    19   9.20153746e+01   0.0000e+00   2.7627e-06   1.1143e-01   -2.10      -     5.0000e-01   0    17979.16    4769.65\n",
      "  iter     objective        pr_inf       du_inf       cs_inf     lg(μ)   lg(reg)    alpha     ls   wall_time  solver_time\n",
      "    20   9.13989333e+01   0.0000e+00   1.3686e-06   6.5326e-02   -2.80      -     5.0000e-01   0    17990.64    4773.25\n",
      "    21   9.10238501e+01   0.0000e+00   7.0542e-07   3.6988e-02   -2.80      -     5.0000e-01   0    18012.72    4779.73\n",
      "    22   9.08271709e+01   0.0000e+00   3.4883e-07   2.1116e-02   -2.80      -     5.0000e-01   0    18024.23    4783.33\n",
      "    23   9.07188815e+01   0.0000e+00   1.6788e-07   1.2092e-02   -3.49      -     5.0000e-01   0    18035.88    4787.09\n",
      "    24   9.06484195e+01   0.0000e+00   9.4324e-08   6.6262e-03   -3.49      -     5.0000e-01   0    18057.62    4793.38\n",
      "    25   9.06103311e+01   0.0000e+00   3.4932e-08   3.6264e-03   -3.49      -     5.0000e-01   0    18068.73    4796.85\n",
      "    26   9.05704787e+01   0.0000e+00   1.4863e-08   7.4897e-04   -4.19      -     1.0000e+00   0    18079.40    4800.03\n",
      "    27   9.05642005e+01   0.0000e+00   8.9344e-09   1.9731e-04   -5.03      -     1.0000e+00   0    18100.16    4805.98\n",
      "    28   9.05630875e+01   0.0000e+00   5.9039e-09   4.9094e-05   -6.04      -     1.0000e+00   0    18121.37    4812.01\n",
      "    29   9.05629195e+01   0.0000e+00   1.0895e-08   9.6176e-06   -7.25      -     1.0000e+00   0    18142.67    4818.23\n",
      "  iter     objective        pr_inf       du_inf       cs_inf     lg(μ)   lg(reg)    alpha     ls   wall_time  solver_time\n",
      "    30   9.05629025e+01   0.0000e+00   4.2020e-09   8.9765e-07   -7.25      -     1.0000e+00   0    18164.01    4824.30\n",
      "    31   9.05629025e+01   0.0000e+00   5.5226e-09   6.6318e-08   -8.70      -     1.0000e+00   0    18174.98    4827.65\n",
      "    32   9.05629015e+01   0.0000e+00   4.6467e-09   2.0630e-09   -8.70      -     1.0000e+00   0    18196.03    4833.64\n",
      "\n",
      "\n",
      "EXIT: Optimal solution found.\n",
      "\n"
     ]
    },
    {
     "data": {
      "text/plain": [
       "([[0.0, 0.0], [0.09999999999585496, 0.0], [0.19999999999098514, 0.09999999999585496], [0.2997999999851538, 0.3019999999867572], [0.3991959999780136, 0.6078399999716462], [0.4979803199690366, 1.0191927999490926], [0.5959419343573844, 1.537556975917111], [0.6928668203896537, 2.1642500497928374], [0.7885383202674928, 2.9004018711783477], [0.8827375164909252, 3.7469482288694076]  …  [0.8978646622946469, -6.981572082318167], [0.8888539827895412, -6.223338861669884], [0.8789643548422066, -5.45895165611374], [0.8682055578697505, -4.689166334393809], [0.8565882307705718, -3.9147441032119343], [0.8441238614060236, -3.136450754505601], [0.8308247752459663, -2.3550559081896894], [0.8167041194824534, -1.571332251107517], [0.8017758759412279, -0.7860547766472139], [0.8033479854945224, 3.761069677921114e-9]], [[0.9999999999792748], [0.9999999999756509], [0.9999999999708017], [0.9999999999641668], [0.9999999999548312], [0.9999999999412295], [0.999999999920518], [0.9999999998871234], [0.9999999998289456], [0.9999999997155455]  …  [0.38513088165129006], [0.38831847164662825], [0.3916164985765816], [0.39502170116016816], [0.39853071214513996], [0.4021400616546575], [0.40584616210053837], [0.4096454597827976], [0.5], [0.5]])"
      ]
     },
     "execution_count": 6,
     "metadata": {},
     "output_type": "execute_result"
    }
   ],
   "source": [
    "solver = Solver(Float64, dynamics, objectives, constraints, bounds, options=options)\n",
    "\n",
    "x1 = [0.0; 0.0]\n",
    "ū = [[0.01] for k = 1:N]  # initialise u \\in [0, 1]\n",
    "solve!(solver, x1, ū)"
   ]
  },
  {
   "cell_type": "code",
   "execution_count": null,
   "id": "d17582dd-bc44-4eb5-81fe-4144dd541daa",
   "metadata": {},
   "outputs": [],
   "source": [
    "# recover optimal trajectory\n",
    "\n",
    "x_sol, u_sol = get_trajectory(solver);"
   ]
  }
 ],
 "metadata": {
  "kernelspec": {
   "display_name": "Julia 1.10.10",
   "language": "julia",
   "name": "julia-1.10"
  },
  "language_info": {
   "file_extension": ".jl",
   "mimetype": "application/julia",
   "name": "julia",
   "version": "1.10.10"
  }
 },
 "nbformat": 4,
 "nbformat_minor": 5
}
